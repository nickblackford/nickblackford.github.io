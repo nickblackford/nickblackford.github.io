{
 "cells": [
  {
   "cell_type": "markdown",
   "id": "14dd6a56-b9bc-46e7-af23-1b6f3f2efbec",
   "metadata": {},
   "source": [
    "# Fantasy Football Player Prediction Model"
   ]
  },
  {
   "cell_type": "code",
   "execution_count": 30,
   "id": "a3279d44-ed01-42d8-804f-43fd1e008a71",
   "metadata": {
    "scrolled": true
   },
   "outputs": [],
   "source": [
    "import pandas as pd\n",
    "\n",
    "# Load the dataset\n",
    "df = pd.read_csv(\"yearly_player_stats_offense.csv\")\n"
   ]
  },
  {
   "cell_type": "code",
   "execution_count": 26,
   "id": "bfe32bc3-cf1c-4443-915d-02ed679babab",
   "metadata": {
    "scrolled": true
   },
   "outputs": [
    {
     "data": {
      "text/html": [
       "<div>\n",
       "<style scoped>\n",
       "    .dataframe tbody tr th:only-of-type {\n",
       "        vertical-align: middle;\n",
       "    }\n",
       "\n",
       "    .dataframe tbody tr th {\n",
       "        vertical-align: top;\n",
       "    }\n",
       "\n",
       "    .dataframe thead th {\n",
       "        text-align: right;\n",
       "    }\n",
       "</style>\n",
       "<table border=\"1\" class=\"dataframe\">\n",
       "  <thead>\n",
       "    <tr style=\"text-align: right;\">\n",
       "      <th></th>\n",
       "      <th>player_id</th>\n",
       "      <th>player_name</th>\n",
       "      <th>position</th>\n",
       "      <th>birth_year</th>\n",
       "      <th>draft_year</th>\n",
       "      <th>draft_round</th>\n",
       "      <th>draft_pick</th>\n",
       "      <th>draft_ovr</th>\n",
       "      <th>height</th>\n",
       "      <th>weight</th>\n",
       "      <th>...</th>\n",
       "      <th>delta_pass_td_pct</th>\n",
       "      <th>delta_ypa</th>\n",
       "      <th>delta_rec_td_pct</th>\n",
       "      <th>delta_yptarget</th>\n",
       "      <th>delta_ayptarget</th>\n",
       "      <th>delta_ypr</th>\n",
       "      <th>delta_rush_td_pct</th>\n",
       "      <th>delta_ypc</th>\n",
       "      <th>delta_td_pct</th>\n",
       "      <th>delta_yptouch</th>\n",
       "    </tr>\n",
       "  </thead>\n",
       "  <tbody>\n",
       "    <tr>\n",
       "      <th>0</th>\n",
       "      <td>00-0000865</td>\n",
       "      <td>Charlie Batch</td>\n",
       "      <td>QB</td>\n",
       "      <td>1974</td>\n",
       "      <td>1998.0</td>\n",
       "      <td>2.0</td>\n",
       "      <td>30.0</td>\n",
       "      <td>60.0</td>\n",
       "      <td>74.0</td>\n",
       "      <td>216.0</td>\n",
       "      <td>...</td>\n",
       "      <td>-1.0</td>\n",
       "      <td>0.0</td>\n",
       "      <td>-1.000000</td>\n",
       "      <td>-1.000000</td>\n",
       "      <td>-1.000000</td>\n",
       "      <td>-1.000000</td>\n",
       "      <td>0.0</td>\n",
       "      <td>0.000000</td>\n",
       "      <td>-0.909091</td>\n",
       "      <td>-0.388795</td>\n",
       "    </tr>\n",
       "    <tr>\n",
       "      <th>1</th>\n",
       "      <td>00-0004541</td>\n",
       "      <td>Donald Driver</td>\n",
       "      <td>WR</td>\n",
       "      <td>1975</td>\n",
       "      <td>1999.0</td>\n",
       "      <td>7.0</td>\n",
       "      <td>7.0</td>\n",
       "      <td>213.0</td>\n",
       "      <td>72.0</td>\n",
       "      <td>194.0</td>\n",
       "      <td>...</td>\n",
       "      <td>0.0</td>\n",
       "      <td>0.0</td>\n",
       "      <td>0.000000</td>\n",
       "      <td>-0.172028</td>\n",
       "      <td>-11.952941</td>\n",
       "      <td>-0.068732</td>\n",
       "      <td>-1.0</td>\n",
       "      <td>-1.000000</td>\n",
       "      <td>49.000000</td>\n",
       "      <td>1.226852</td>\n",
       "    </tr>\n",
       "    <tr>\n",
       "      <th>2</th>\n",
       "      <td>00-0006101</td>\n",
       "      <td>Tony Gonzalez</td>\n",
       "      <td>TE</td>\n",
       "      <td>1976</td>\n",
       "      <td>1997.0</td>\n",
       "      <td>1.0</td>\n",
       "      <td>13.0</td>\n",
       "      <td>13.0</td>\n",
       "      <td>77.0</td>\n",
       "      <td>247.0</td>\n",
       "      <td>...</td>\n",
       "      <td>0.0</td>\n",
       "      <td>0.0</td>\n",
       "      <td>0.000000</td>\n",
       "      <td>1.246341</td>\n",
       "      <td>-0.509202</td>\n",
       "      <td>-0.326262</td>\n",
       "      <td>0.0</td>\n",
       "      <td>0.000000</td>\n",
       "      <td>0.000000</td>\n",
       "      <td>-0.326262</td>\n",
       "    </tr>\n",
       "    <tr>\n",
       "      <th>3</th>\n",
       "      <td>00-0006101</td>\n",
       "      <td>Tony Gonzalez</td>\n",
       "      <td>TE</td>\n",
       "      <td>1976</td>\n",
       "      <td>1997.0</td>\n",
       "      <td>1.0</td>\n",
       "      <td>13.0</td>\n",
       "      <td>13.0</td>\n",
       "      <td>77.0</td>\n",
       "      <td>247.0</td>\n",
       "      <td>...</td>\n",
       "      <td>0.0</td>\n",
       "      <td>0.0</td>\n",
       "      <td>-0.538462</td>\n",
       "      <td>-0.165038</td>\n",
       "      <td>-0.002500</td>\n",
       "      <td>0.085776</td>\n",
       "      <td>0.0</td>\n",
       "      <td>0.000000</td>\n",
       "      <td>-0.413793</td>\n",
       "      <td>0.085776</td>\n",
       "    </tr>\n",
       "    <tr>\n",
       "      <th>4</th>\n",
       "      <td>00-0007091</td>\n",
       "      <td>Matt Hasselbeck</td>\n",
       "      <td>QB</td>\n",
       "      <td>1975</td>\n",
       "      <td>1998.0</td>\n",
       "      <td>6.0</td>\n",
       "      <td>34.0</td>\n",
       "      <td>187.0</td>\n",
       "      <td>76.0</td>\n",
       "      <td>235.0</td>\n",
       "      <td>...</td>\n",
       "      <td>-1.0</td>\n",
       "      <td>0.0</td>\n",
       "      <td>-1.000000</td>\n",
       "      <td>-1.000000</td>\n",
       "      <td>-1.000000</td>\n",
       "      <td>-1.000000</td>\n",
       "      <td>-1.0</td>\n",
       "      <td>-0.337868</td>\n",
       "      <td>0.500000</td>\n",
       "      <td>0.250509</td>\n",
       "    </tr>\n",
       "  </tbody>\n",
       "</table>\n",
       "<p>5 rows × 494 columns</p>\n",
       "</div>"
      ],
      "text/plain": [
       "    player_id      player_name position  birth_year  draft_year  draft_round  \\\n",
       "0  00-0000865    Charlie Batch       QB        1974      1998.0          2.0   \n",
       "1  00-0004541    Donald Driver       WR        1975      1999.0          7.0   \n",
       "2  00-0006101    Tony Gonzalez       TE        1976      1997.0          1.0   \n",
       "3  00-0006101    Tony Gonzalez       TE        1976      1997.0          1.0   \n",
       "4  00-0007091  Matt Hasselbeck       QB        1975      1998.0          6.0   \n",
       "\n",
       "   draft_pick  draft_ovr  height  weight  ... delta_pass_td_pct  delta_ypa  \\\n",
       "0        30.0       60.0    74.0   216.0  ...              -1.0        0.0   \n",
       "1         7.0      213.0    72.0   194.0  ...               0.0        0.0   \n",
       "2        13.0       13.0    77.0   247.0  ...               0.0        0.0   \n",
       "3        13.0       13.0    77.0   247.0  ...               0.0        0.0   \n",
       "4        34.0      187.0    76.0   235.0  ...              -1.0        0.0   \n",
       "\n",
       "  delta_rec_td_pct delta_yptarget  delta_ayptarget  delta_ypr  \\\n",
       "0        -1.000000      -1.000000        -1.000000  -1.000000   \n",
       "1         0.000000      -0.172028       -11.952941  -0.068732   \n",
       "2         0.000000       1.246341        -0.509202  -0.326262   \n",
       "3        -0.538462      -0.165038        -0.002500   0.085776   \n",
       "4        -1.000000      -1.000000        -1.000000  -1.000000   \n",
       "\n",
       "   delta_rush_td_pct  delta_ypc  delta_td_pct  delta_yptouch  \n",
       "0                0.0   0.000000     -0.909091      -0.388795  \n",
       "1               -1.0  -1.000000     49.000000       1.226852  \n",
       "2                0.0   0.000000      0.000000      -0.326262  \n",
       "3                0.0   0.000000     -0.413793       0.085776  \n",
       "4               -1.0  -0.337868      0.500000       0.250509  \n",
       "\n",
       "[5 rows x 494 columns]"
      ]
     },
     "execution_count": 26,
     "metadata": {},
     "output_type": "execute_result"
    }
   ],
   "source": [
    "df.head()"
   ]
  },
  {
   "cell_type": "markdown",
   "id": "dee8bb9a-1b48-4637-b15b-3bde4f4da19c",
   "metadata": {},
   "source": [
    "# Quarterbacks (QB)"
   ]
  },
  {
   "cell_type": "markdown",
   "id": "e873f1c5-92f5-422e-a569-daaa2c7d9652",
   "metadata": {},
   "source": [
    "## Clean Data"
   ]
  },
  {
   "cell_type": "code",
   "execution_count": 31,
   "id": "822d2c39-3ab9-42e0-a688-29feb7d646cc",
   "metadata": {},
   "outputs": [],
   "source": [
    "# Filter for QBs only\n",
    "qb_df = df[df['position'] == 'QB'].copy()\n",
    "\n",
    "# Sort for proper lagging\n",
    "qb_df = qb_df.sort_values(by=['player_id', 'season'])\n",
    "\n",
    "# Create lag feature for previous season's fantasy points\n",
    "qb_df['prev_season_fantasy_points_ppr'] = qb_df.groupby('player_id')['season_fantasy_points_ppr'].shift(1)\n",
    "\n",
    "# Drop rows where we can't compute the lag\n",
    "qb_df = qb_df.dropna(subset=['prev_season_fantasy_points_ppr', 'season_fantasy_points_ppr'])\n",
    "\n",
    "# Drop target and non-numeric columns (IDs, text fields)\n",
    "drop_cols = [\n",
    "    'player_id', 'player_name', 'team', 'position', 'college', 'season_type',\n",
    "    'fantasy_points_ppr', 'fantasy_points_standard', 'season_fantasy_points_ppr'\n",
    "]\n",
    "\n",
    "# Drop those from the full set\n",
    "qb_features_df = qb_df.drop(columns=drop_cols, errors='ignore')\n",
    "\n",
    "# Drop any remaining non-numeric columns\n",
    "qb_features_df = qb_features_df.select_dtypes(include=['number'])\n",
    "\n",
    "# Extract target separately\n",
    "qb_target_df = qb_df['season_fantasy_points_ppr']"
   ]
  },
  {
   "cell_type": "markdown",
   "id": "e7047ee9-f352-46dd-bbeb-1255d81105d2",
   "metadata": {},
   "source": [
    "## Feature Engineering\n",
    "To enable forward-looking predictions, we engineered lag features from prior seasons’ data. Since we aim to predict a player’s next-season fantasy output, we only used information available at the end of the previous season to avoid data leakage.\n",
    "\n",
    "We began by identifying all season-level columns prefixed with \"season_\" that were numeric (e.g., season_pass_touchdown, season_total_yards, etc.). These represented cumulative performance indicators for a given year. For each player, we then created lagged versions of these variables to represent their values from the previous season:\n"
   ]
  },
  {
   "cell_type": "code",
   "execution_count": 32,
   "id": "1f31e472-84b8-42a7-896a-c882d4a6a163",
   "metadata": {},
   "outputs": [
    {
     "name": "stderr",
     "output_type": "stream",
     "text": [
      "/var/folders/tx/bg_9dv292q3ct7x5bj7l118h0000gn/T/ipykernel_82232/2948477896.py:6: DeprecationWarning: DataFrameGroupBy.apply operated on the grouping columns. This behavior is deprecated, and in a future version of pandas the grouping columns will be excluded from the operation. Either pass `include_groups=False` to exclude the groupings or explicitly select the grouping columns after groupby to silence this warning.\n",
      "  lagged_df = qb_df.groupby('player_id').apply(lambda group: group.assign(**{\n"
     ]
    }
   ],
   "source": [
    "# Identify numeric season-level columns\n",
    "season_cols = [col for col in qb_df.columns if col.startswith(\"season_\") and pd.api.types.is_numeric_dtype(qb_df[col])]\n",
    "lagged_cols = {col: f\"prev_{col}\" for col in season_cols}\n",
    "\n",
    "# Create lagged features\n",
    "lagged_df = qb_df.groupby('player_id').apply(lambda group: group.assign(**{\n",
    "    new_col: group[old_col].shift(1) for old_col, new_col in lagged_cols.items()\n",
    "})).reset_index(drop=True)\n",
    "\n",
    "# Manually add lagged versions of key metrics\n",
    "extra_features = [\n",
    "    'games_played_season',\n",
    "    'season_passing_yards',\n",
    "    'season_pass_touchdown',\n",
    "    'season_interception',\n",
    "    'season_total_tds',\n",
    "    'season_touches',\n",
    "    'season_total_yards',\n",
    "    'season_offense_snaps'\n",
    "]\n",
    "\n",
    "for col in extra_features:\n",
    "    qb_df[f'prev_{col}'] = qb_df.groupby('player_id')[col].shift(1)\n",
    "\n",
    "# Drop rows with missing lagged features or target\n",
    "required_cols = ['season_fantasy_points_ppr'] + [f'prev_{col}' for col in extra_features]\n",
    "qb_df_filtered = qb_df.dropna(subset=required_cols)\n",
    "\n",
    "# Define final feature set (remove known leakage)\n",
    "base_lagged_features = [col for col in qb_df_filtered.columns if col.startswith('prev_') and 'fantasy_points' not in col]\n",
    "final_feature_cols = base_lagged_features  # Includes extra_features + all valid lagged stats\n",
    "\n",
    "# Create features and target\n",
    "qb_features_df = qb_df_filtered[final_feature_cols]\n",
    "qb_target_df = qb_df_filtered['season_fantasy_points_ppr']\n"
   ]
  },
  {
   "cell_type": "markdown",
   "id": "5f5ecf93-6d97-4cbe-9938-c0f593b2a885",
   "metadata": {},
   "source": [
    "## Build Model"
   ]
  },
  {
   "cell_type": "code",
   "execution_count": 33,
   "id": "5eef288e-d52b-4893-a3be-b25f27a86292",
   "metadata": {},
   "outputs": [
    {
     "name": "stdout",
     "output_type": "stream",
     "text": [
      "MAE: 84.89\n",
      "R²: 0.4387\n"
     ]
    }
   ],
   "source": [
    "# Define features and target\n",
    "qb_features_df = qb_df_filtered[final_feature_cols]\n",
    "qb_target_df = qb_df_filtered['season_fantasy_points_ppr']\n",
    "\n",
    "# Train/test split\n",
    "X_train, X_test, y_train, y_test = train_test_split(\n",
    "    qb_features_df, qb_target_df, test_size=0.2, random_state=42\n",
    ")\n",
    "\n",
    "# Train model\n",
    "rf_model = RandomForestRegressor(n_estimators=100, max_depth=10, random_state=42)\n",
    "rf_model.fit(X_train, y_train)\n",
    "\n",
    "# Predict and evaluate\n",
    "y_pred = rf_model.predict(X_test)\n",
    "mae = mean_absolute_error(y_test, y_pred)\n",
    "r2 = r2_score(y_test, y_pred)\n",
    "\n",
    "print(f\"MAE: {mae:.2f}\")\n",
    "print(f\"R²: {r2:.4f}\")"
   ]
  },
  {
   "cell_type": "markdown",
   "id": "2460e325-57af-4e74-92ae-72379560a62e",
   "metadata": {},
   "source": [
    "## Plot Accuracy"
   ]
  },
  {
   "cell_type": "code",
   "execution_count": null,
   "id": "490da8dd-4d1f-44fb-b091-3b327fdaf820",
   "metadata": {},
   "outputs": [],
   "source": [
    "import matplotlib.pyplot as plt\n",
    "import seaborn as sns\n",
    "\n",
    "# Plot predicted vs. actual fantasy points\n",
    "plt.figure(figsize=(8, 6))\n",
    "sns.scatterplot(x=y_test, y=y_pred)\n",
    "plt.plot([y_test.min(), y_test.max()], [y_test.min(), y_test.max()], 'r--', label='Ideal Fit')\n",
    "plt.xlabel(\"Actual Fantasy Points (PPR)\")\n",
    "plt.ylabel(\"Predicted Fantasy Points (PPR)\")\n",
    "plt.title(\"Predicted vs. Actual Fantasy Points (QBs)\")\n",
    "plt.legend()\n",
    "plt.grid(True)\n",
    "plt.tight_layout()\n",
    "plt.savefig(\"qb_pred_vs_actual.png\", dpi=300)\n",
    "plt.show()"
   ]
  },
  {
   "cell_type": "markdown",
   "id": "5370fa7a-27d3-49b7-b0c0-6307cc2382ae",
   "metadata": {},
   "source": [
    "## Plot Feature Importance"
   ]
  },
  {
   "cell_type": "code",
   "execution_count": null,
   "id": "e4a58c2c-b31d-455e-9d2b-0413dcea21f3",
   "metadata": {},
   "outputs": [],
   "source": [
    "import numpy as np\n",
    "import matplotlib.pyplot as plt\n",
    "\n",
    "# Get feature importances from the trained Random Forest model\n",
    "importances = rf_model.feature_importances_\n",
    "indices = np.argsort(importances)[-20:][::-1]  # Top 20 features\n",
    "top_features = qb_features_df.columns[indices]\n",
    "top_importances = importances[indices]\n",
    "\n",
    "# Plot\n",
    "plt.figure(figsize=(10, 8))\n",
    "plt.barh(top_features, top_importances)\n",
    "plt.xlabel(\"Feature Importance\")\n",
    "plt.title(\"Top 20 Feature Importances (Random Forest - QB Model)\")\n",
    "plt.gca().invert_yaxis()\n",
    "plt.tight_layout()\n",
    "plt.show()\n"
   ]
  },
  {
   "cell_type": "markdown",
   "id": "33a20215-ba85-4ac9-b1d9-c943fac7b6b8",
   "metadata": {},
   "source": [
    "# Running Backs (RB)\n",
    "\n",
    "## Feature Engineering"
   ]
  },
  {
   "cell_type": "code",
   "execution_count": null,
   "id": "7115d6e1-c888-400c-b233-61ea7732ca42",
   "metadata": {},
   "outputs": [],
   "source": [
    "# Filter for RBs only and sort for lag feature creation\n",
    "rb_df = df[df['position'] == 'RB'].copy().sort_values(by=['player_id', 'season'])\n",
    "\n",
    "# Identify numeric season-level columns for lagging\n",
    "season_cols = [col for col in rb_df.columns if col.startswith(\"season_\") and pd.api.types.is_numeric_dtype(rb_df[col])]\n",
    "lagged_cols = {col: f\"prev_{col}\" for col in season_cols}\n",
    "\n",
    "# Create lag features from prior season stats\n",
    "rb_df = rb_df.groupby('player_id').apply(lambda group: group.assign(**{\n",
    "    new_col: group[old_col].shift(1) for old_col, new_col in lagged_cols.items()\n",
    "})).reset_index(drop=True)\n",
    "\n",
    "# Add domain-relevant RB metrics\n",
    "extra_features_rb = [\n",
    "    'games_played_season',\n",
    "    'season_rushing_yards',\n",
    "    'season_rush_touchdown',\n",
    "    'season_receptions',\n",
    "    'season_receiving_yards',\n",
    "    'season_receiving_touchdown',\n",
    "    'season_total_tds',\n",
    "    'season_touches',\n",
    "    'season_total_yards',\n",
    "    'season_offense_snaps'\n",
    "]\n",
    "\n",
    "for col in extra_features_rb:\n",
    "    rb_df[f'prev_{col}'] = rb_df.groupby('player_id')[col].shift(1)\n",
    "\n",
    "# Drop rows with missing target or features\n",
    "required_cols_rb = ['season_fantasy_points_ppr'] + [f'prev_{col}' for col in extra_features_rb]\n",
    "rb_df_filtered = rb_df.dropna(subset=required_cols_rb)\n",
    "\n",
    "# Prepare final features and target\n",
    "base_lagged_features_rb = [col for col in rb_df_filtered.columns if col.startswith(\"prev_season_\") and pd.api.types.is_numeric_dtype(rb_df_filtered[col])]\n",
    "final_feature_cols_rb = base_lagged_features_rb + [f'prev_{col}' for col in extra_features_rb]\n"
   ]
  },
  {
   "cell_type": "markdown",
   "id": "19b0e57e-82bc-42a3-b3fd-6d16f9e4ac2e",
   "metadata": {},
   "source": [
    "## Model Building"
   ]
  },
  {
   "cell_type": "code",
   "execution_count": null,
   "id": "7f7ba05e-9231-4b2a-bd63-6cc750f401ea",
   "metadata": {},
   "outputs": [],
   "source": [
    "rb_features_df = rb_df_filtered[final_feature_cols_rb]\n",
    "rb_target_df = rb_df_filtered['season_fantasy_points_ppr']\n",
    "\n",
    "# Train/test split\n",
    "from sklearn.model_selection import train_test_split\n",
    "from sklearn.ensemble import RandomForestRegressor\n",
    "from sklearn.metrics import mean_absolute_error, r2_score\n",
    "\n",
    "X_train_rb, X_test_rb, y_train_rb, y_test_rb = train_test_split(\n",
    "    rb_features_df, rb_target_df, test_size=0.2, random_state=42\n",
    ")\n",
    "\n",
    "# Train the model\n",
    "rf_model_rb = RandomForestRegressor(n_estimators=100, max_depth=10, random_state=42)\n",
    "rf_model_rb.fit(X_train_rb, y_train_rb)\n",
    "\n",
    "# Predict and evaluate\n",
    "y_pred_rb = rf_model_rb.predict(X_test_rb)\n",
    "mae_rb = mean_absolute_error(y_test_rb, y_pred_rb)\n",
    "r2_rb = r2_score(y_test_rb, y_pred_rb)\n",
    "\n",
    "(mae_rb, r2_rb)"
   ]
  },
  {
   "cell_type": "markdown",
   "id": "74fc1f4d-4d73-48e4-801b-db5e15c3a918",
   "metadata": {},
   "source": [
    "## Plot Accuracy"
   ]
  },
  {
   "cell_type": "code",
   "execution_count": null,
   "id": "82ebb507-8a7c-4dbc-9628-ff601af7ca8b",
   "metadata": {},
   "outputs": [],
   "source": [
    "import matplotlib.pyplot as plt\n",
    "import seaborn as sns\n",
    "import numpy as np\n",
    "\n",
    "# Plot predicted vs. actual for RBs\n",
    "plt.figure(figsize=(8, 6))\n",
    "sns.scatterplot(x=y_test_rb, y=y_pred_rb)\n",
    "plt.plot([y_test_rb.min(), y_test_rb.max()], [y_test_rb.min(), y_test_rb.max()], 'r--', label='Ideal Fit')\n",
    "plt.xlabel(\"Actual Fantasy Points (PPR)\")\n",
    "plt.ylabel(\"Predicted Fantasy Points (PPR)\")\n",
    "plt.title(\"Predicted vs. Actual Fantasy Points (RBs)\")\n",
    "plt.legend()\n",
    "plt.grid(True)\n",
    "plt.tight_layout()\n",
    "plt.savefig(\"rb_pred_vs_actual.png\", dpi=300)\n",
    "plt.show()\n"
   ]
  },
  {
   "cell_type": "markdown",
   "id": "8d6f5c52-bf41-47a8-a366-22306d998ff2",
   "metadata": {},
   "source": [
    "## Plot Feature Importance"
   ]
  },
  {
   "cell_type": "code",
   "execution_count": null,
   "id": "fe3c1b3e-4217-4d6e-bd86-050512b7625c",
   "metadata": {
    "scrolled": true
   },
   "outputs": [],
   "source": [
    "# Get feature importances from the RB Random Forest model\n",
    "importances_rb = rf_model_rb.feature_importances_\n",
    "indices_rb = np.argsort(importances_rb)[-20:][::-1]  # Top 20\n",
    "top_features_rb = rb_features_df.columns[indices_rb]\n",
    "top_importances_rb = importances_rb[indices_rb]\n",
    "\n",
    "# Plot feature importances\n",
    "plt.figure(figsize=(10, 8))\n",
    "plt.barh(top_features_rb, top_importances_rb)\n",
    "plt.xlabel(\"Feature Importance\")\n",
    "plt.title(\"Top 20 Feature Importances (Random Forest - RB Model)\")\n",
    "plt.gca().invert_yaxis()\n",
    "plt.tight_layout()\n",
    "plt.show()\n"
   ]
  },
  {
   "cell_type": "markdown",
   "id": "1c2db7dc-8e50-427d-b11e-eb7badd5da13",
   "metadata": {},
   "source": [
    "# Wide Receivers and Tight Ends (WR/TE)\n",
    "\n",
    "## Feature Engineering"
   ]
  },
  {
   "cell_type": "code",
   "execution_count": null,
   "id": "c8698de6-33ef-416c-9033-a9f29e4f5003",
   "metadata": {
    "scrolled": true
   },
   "outputs": [],
   "source": [
    "# Filter for WR and TE positions\n",
    "wrte_df = df[df['position'].isin(['WR', 'TE'])].copy().sort_values(by=['player_id', 'season'])\n",
    "\n",
    "# Create lag features for numeric \"season_\" columns\n",
    "season_cols = [col for col in wrte_df.columns if col.startswith(\"season_\") and pd.api.types.is_numeric_dtype(wrte_df[col])]\n",
    "lagged_cols = {col: f\"prev_{col}\" for col in season_cols}\n",
    "\n",
    "wrte_df = wrte_df.groupby('player_id').apply(lambda group: group.assign(**{\n",
    "    new_col: group[old_col].shift(1) for old_col, new_col in lagged_cols.items()\n",
    "})).reset_index(drop=True)\n",
    "\n",
    "# Add WR/TE-specific lagged features\n",
    "extra_features_wrte = [\n",
    "    'games_played_season',\n",
    "    'season_receptions',\n",
    "    'season_receiving_yards',\n",
    "    'season_receiving_touchdown',\n",
    "    'season_targets',\n",
    "    'season_total_tds',\n",
    "    'season_touches',\n",
    "    'season_total_yards',\n",
    "    'season_offense_snaps'\n",
    "]\n",
    "\n",
    "for col in extra_features_wrte:\n",
    "    wrte_df[f'prev_{col}'] = wrte_df.groupby('player_id')[col].shift(1)\n",
    "\n",
    "# Drop rows with missing target or features\n",
    "required_cols_wrte = ['season_fantasy_points_ppr'] + [f'prev_{col}' for col in extra_features_wrte]\n",
    "wrte_df_filtered = wrte_df.dropna(subset=required_cols_wrte)\n",
    "\n",
    "# Prepare final features and target\n",
    "base_lagged_features_wrte = [col for col in wrte_df_filtered.columns if col.startswith(\"prev_season_\") and pd.api.types.is_numeric_dtype(wrte_df_filtered[col])]\n",
    "final_feature_cols_wrte = base_lagged_features_wrte + [f'prev_{col}' for col in extra_features_wrte]\n",
    "\n",
    "wrte_features_df = wrte_df_filtered[final_feature_cols_wrte]\n",
    "wrte_target_df = wrte_df_filtered['season_fantasy_points_ppr']"
   ]
  },
  {
   "cell_type": "markdown",
   "id": "b88f401b-e1ff-4e72-9b12-e4a13e3d09a6",
   "metadata": {},
   "source": [
    "## Model Building "
   ]
  },
  {
   "cell_type": "code",
   "execution_count": null,
   "id": "b50999c5-3245-448f-b896-404f83b4b3f8",
   "metadata": {},
   "outputs": [],
   "source": [
    "# Train/test split and model\n",
    "from sklearn.model_selection import train_test_split\n",
    "from sklearn.ensemble import RandomForestRegressor\n",
    "from sklearn.metrics import mean_absolute_error, r2_score\n",
    "\n",
    "X_train_wrte, X_test_wrte, y_train_wrte, y_test_wrte = train_test_split(\n",
    "    wrte_features_df, wrte_target_df, test_size=0.2, random_state=42\n",
    ")\n",
    "\n",
    "rf_model_wrte = RandomForestRegressor(n_estimators=100, max_depth=10, random_state=42)\n",
    "rf_model_wrte.fit(X_train_wrte, y_train_wrte)\n",
    "\n",
    "# Predict and evaluate\n",
    "y_pred_wrte = rf_model_wrte.predict(X_test_wrte)\n",
    "mae_wrte = mean_absolute_error(y_test_wrte, y_pred_wrte)\n",
    "r2_wrte = r2_score(y_test_wrte, y_pred_wrte)\n",
    "\n",
    "(mae_wrte, r2_wrte)"
   ]
  },
  {
   "cell_type": "markdown",
   "id": "bd250b6b-bdd6-4b4d-8f74-8efafffb29b5",
   "metadata": {},
   "source": [
    "# Plot Accuracy"
   ]
  },
  {
   "cell_type": "code",
   "execution_count": null,
   "id": "76103f6f-22db-4968-8e60-7695a988d924",
   "metadata": {
    "scrolled": true
   },
   "outputs": [],
   "source": [
    "# Plot predicted vs. actual for WR/TE\n",
    "plt.figure(figsize=(8, 6))\n",
    "sns.scatterplot(x=y_test_wrte, y=y_pred_wrte)\n",
    "plt.plot([y_test_wrte.min(), y_test_wrte.max()], [y_test_wrte.min(), y_test_wrte.max()], 'r--', label='Ideal Fit')\n",
    "plt.xlabel(\"Actual Fantasy Points (PPR)\")\n",
    "plt.ylabel(\"Predicted Fantasy Points (PPR)\")\n",
    "plt.title(\"Predicted vs. Actual Fantasy Points (WR/TE)\")\n",
    "plt.legend()\n",
    "plt.grid(True)\n",
    "plt.tight_layout()\n",
    "plt.savefig(\"wrte_pred_vs_actual.png\", dpi=300)\n",
    "plt.show()\n"
   ]
  },
  {
   "cell_type": "code",
   "execution_count": null,
   "id": "e5a84b71-8075-4706-b614-277448c4e5ec",
   "metadata": {},
   "outputs": [],
   "source": [
    "# Get feature importances from the WR/TE Random Forest model\n",
    "importances_wrte = rf_model_wrte.feature_importances_\n",
    "indices_wrte = np.argsort(importances_wrte)[-20:][::-1]  # Top 20\n",
    "top_features_wrte = wrte_features_df.columns[indices_wrte]\n",
    "top_importances_wrte = importances_wrte[indices_wrte]\n",
    "\n",
    "# Plot feature importances\n",
    "plt.figure(figsize=(10, 8))\n",
    "plt.barh(top_features_wrte, top_importances_wrte)\n",
    "plt.xlabel(\"Feature Importance\")\n",
    "plt.title(\"Top 20 Feature Importances (Random Forest - WR/TE Model)\")\n",
    "plt.gca().invert_yaxis()\n",
    "plt.tight_layout()\n",
    "plt.show()\n"
   ]
  },
  {
   "cell_type": "markdown",
   "id": "55ccfe7f-e839-4548-bc24-099b846b35c7",
   "metadata": {},
   "source": [
    "# SHAP + Ensembling"
   ]
  },
  {
   "cell_type": "code",
   "execution_count": 16,
   "id": "1cb45d06-0e9d-4790-b557-1b843de2dfa7",
   "metadata": {
    "scrolled": true
   },
   "outputs": [],
   "source": [
    "# Install required packages \n",
    "!pip install xgboost shap --quiet\n"
   ]
  },
  {
   "cell_type": "code",
   "execution_count": 19,
   "id": "fd6f4ab8-a5e8-469c-8c04-22150504f2fe",
   "metadata": {},
   "outputs": [],
   "source": [
    "# Drop known leakage columns before modeling\n",
    "leakage_cols = [col for col in qb_features_df.columns if 'fantasy_points' in col and not col.startswith('prev_')]\n",
    "qb_features_df_clean = qb_features_df.drop(columns=leakage_cols)\n"
   ]
  },
  {
   "cell_type": "code",
   "execution_count": 41,
   "id": "606fe644-8fac-4c47-b680-30203c13bf5a",
   "metadata": {},
   "outputs": [
    {
     "name": "stdout",
     "output_type": "stream",
     "text": [
      "Random Forest - MAE: 84.89, R²: 0.4387\n",
      "XGBoost - MAE: 89.24, R²: 0.3695\n",
      "Voting Ensemble - MAE: 86.66, R²: 0.4156\n"
     ]
    }
   ],
   "source": [
    "from sklearn.ensemble import RandomForestRegressor, VotingRegressor\n",
    "from sklearn.metrics import mean_absolute_error, r2_score\n",
    "from sklearn.model_selection import train_test_split\n",
    "import xgboost as xgb\n",
    "import shap\n",
    "import matplotlib.pyplot as plt\n",
    "\n",
    "# Train-test split\n",
    "X_train, X_test, y_train, y_test = train_test_split(\n",
    "    qb_features_df, qb_target_df, test_size=0.2, random_state=42\n",
    ")\n",
    "\n",
    "# 1. Random Forest\n",
    "rf_model = RandomForestRegressor(n_estimators=100, max_depth=10, random_state=42)\n",
    "rf_model.fit(X_train, y_train)\n",
    "rf_preds = rf_model.predict(X_test)\n",
    "\n",
    "# 2. XGBoost\n",
    "xgb_model = xgb.XGBRegressor(n_estimators=100, max_depth=6, learning_rate=0.1, random_state=42)\n",
    "xgb_model.fit(X_train, y_train)\n",
    "xgb_preds = xgb_model.predict(X_test)\n",
    "\n",
    "# 3. Voting Ensemble\n",
    "ensemble = VotingRegressor(estimators=[\n",
    "    ('rf', rf_model),\n",
    "    ('xgb', xgb_model)\n",
    "])\n",
    "ensemble.fit(X_train, y_train)\n",
    "ensemble_preds = ensemble.predict(X_test)\n",
    "\n",
    "# Evaluation function\n",
    "def evaluate_model(name, y_true, y_pred):\n",
    "    mae = mean_absolute_error(y_true, y_pred)\n",
    "    r2 = r2_score(y_true, y_pred)\n",
    "    print(f\"{name} - MAE: {mae:.2f}, R²: {r2:.4f}\")\n",
    "    return mae, r2\n",
    "\n",
    "# Evaluate all three\n",
    "evaluate_model(\"Random Forest\", y_test, rf_preds)\n",
    "evaluate_model(\"XGBoost\", y_test, xgb_preds)\n",
    "evaluate_model(\"Voting Ensemble\", y_test, ensemble_preds)\n",
    "\n",
    "# 4. SHAP Analysis (RF only)\n",
    "explainer = shap.Explainer(rf_model)\n",
    "shap_values = explainer(X_test)\n",
    "\n"
   ]
  },
  {
   "cell_type": "code",
   "execution_count": 43,
   "id": "a41efa3e-92d1-4626-8701-7abfdd859c3d",
   "metadata": {},
   "outputs": [
    {
     "data": {
      "image/png": "[encoded data removed]",
      "text/plain": [
       "<Figure size 800x470 with 2 Axes>"
      ]
     },
     "metadata": {},
     "output_type": "display_data"
    }
   ],
   "source": [
    "# SHAP summary plot\n",
    "plt.title(\"SHAP Summary Plot – QB Model (RF)\")\n",
    "shap.summary_plot(shap_values, X_test, max_display=15, show=False)\n",
    "plt.savefig(\"qb_shap_summary.png\", dpi=300, bbox_inches=\"tight\")\n"
   ]
  }
 ],
 "metadata": {
  "kernelspec": {
   "display_name": "Python 3 (ipykernel)",
   "language": "python",
   "name": "python3"
  },
  "language_info": {
   "codemirror_mode": {
    "name": "ipython",
    "version": 3
   },
   "file_extension": ".py",
   "mimetype": "text/x-python",
   "name": "python",
   "nbconvert_exporter": "python",
   "pygments_lexer": "ipython3",
   "version": "3.11.5"
  }
 },
 "nbformat": 4,
 "nbformat_minor": 5
}
